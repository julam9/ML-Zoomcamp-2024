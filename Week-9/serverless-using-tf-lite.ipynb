{
 "cells": [
  {
   "cell_type": "markdown",
   "metadata": {},
   "source": [
    "## Tensorflow Lite\n",
    "\n",
    "Tensorflow Lite is a lighter (by size) model than tensorflow. It can do tasks as tensorflow do (image recognition, pattern recognition, regression, classification, clustering). People use it because it is lighter so it can run locally by many people. \n",
    "\n",
    "Tensorflow Lite can only used to predict. It has been trained on many training data"
   ]
  },
  {
   "cell_type": "code",
   "execution_count": null,
   "metadata": {
    "vscode": {
     "languageId": "plaintext"
    }
   },
   "outputs": [],
   "source": []
  }
 ],
 "metadata": {
  "language_info": {
   "name": "python"
  }
 },
 "nbformat": 4,
 "nbformat_minor": 2
}
